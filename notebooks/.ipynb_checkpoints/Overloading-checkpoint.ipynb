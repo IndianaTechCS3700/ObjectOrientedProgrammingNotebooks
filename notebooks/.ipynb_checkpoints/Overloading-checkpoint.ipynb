{
 "cells": [
  {
   "cell_type": "markdown",
   "metadata": {},
   "source": [
    "# Overview #\n",
    "\n",
    "In this section we will investigate the idea of overloading.\n",
    "\n",
    "* Overloading based on scopes\n",
    "* Overloading based on type signatures\n",
    "* Coercison, Conversion and Casts\n",
    "* Redefinition\n",
    "* Polyadicity\n",
    "\n",
    "# A Definition of Overloading #\n",
    "\n",
    "We say a term is overloaded if it has two or more meanings.\n",
    "\n",
    "Most words in natural languages are overloaded, and confusion is resolved by means of context.\n",
    "\n",
    "Same is true of OO languages.  There are two important classes of context that are used to resolve overloaded names\n",
    "\n",
    "* Overloading based on Scopes\n",
    "* Overloading based on Type Signatures\n",
    "\n",
    "# Overloading Based on Scopes #\n",
    "\n",
    "A name scope defines the portion of a program in which a name can be used, or the way it can be used.  Scopes are introduced using lots of different mechanisms:\n",
    "\n",
    "* Classes or interfaces\n",
    "* Packages or Units\n",
    "* Procedures or Functions\n",
    "* in some languages, even Blocks\n",
    "\n",
    "An advantage of scopes is that the same name can appear in two or more scopes with no ambiguity.\n"
   ]
  },
  {
   "cell_type": "code",
   "execution_count": null,
   "metadata": {},
   "outputs": [],
   "source": [
    "class A\n",
    "{\n",
    "    public void Test() =>\n",
    "        Console.WriteLine(\"A\");\n",
    "}\n",
    "\n",
    "class B\n",
    "{\n",
    "    public void Test() =>\n",
    "        Console.WriteLine(\"B\");\n",
    "}\n",
    "\n",
    "A a = new A();\n",
    "B b = new B();\n",
    "\n",
    "a.Test();\n",
    "b.Test();"
   ]
  },
  {
   "cell_type": "markdown",
   "metadata": {},
   "source": [
    "# Overloading Based on Type Signatures #\n",
    "\n",
    "A different type of overloading allows multiple implementations in the\n",
    "same scope to be resolved using type signatures."
   ]
  },
  {
   "cell_type": "code",
   "execution_count": null,
   "metadata": {},
   "outputs": [],
   "source": [
    "class Example {\n",
    "    // same name, three different methods\n",
    "    public int sum (int a) { return a; }\n",
    "    public int sum (int a, int b) { return a + b; }\n",
    "    public int sum (int a, int b, int c) { return a + b + c; }\n",
    "}\n",
    "\n",
    "var ex = new Example();\n",
    "display(ex.sum(3,4));\n",
    "display(ex.sum(5,6,7));"
   ]
  },
  {
   "cell_type": "markdown",
   "metadata": {},
   "source": [
    "# Resolution Performed at Compile Time #\n",
    "Note that resolution is almost always performed at compile time,\n",
    "based on static types, and not dynamic values.\n",
    "\n",
    "_What text will be displayed when you execute the code below?_"
   ]
  },
  {
   "cell_type": "code",
   "execution_count": null,
   "metadata": {},
   "outputs": [],
   "source": [
    "class Parent { }\n",
    "\n",
    "class Child : Parent { }\n",
    "\n",
    "void Test(Parent p) => Console.WriteLine(\"in parent\"); \n",
    "void Test(Child c) => Console.WriteLine(\"in child\"); \n",
    "\n",
    "Parent person = new Child();\n",
    "\n",
    "Test(person); "
   ]
  },
  {
   "cell_type": "markdown",
   "metadata": {},
   "source": [
    "# Conversion and Coercions #\n",
    "\n",
    "When one adds conversions into the mix, resolving overloaded function or method calls can get very complex.  Many different types of conversions:\n",
    "\n",
    "* Implicit value changing conversion (such as integer to real)\n",
    "    - These are somtime called Coercions\n",
    "* Implicit conversion that does not change value (pointer to child class converted into pointer to parent)\n",
    "* Explicit conversions (casts)\n",
    "* Conversion operators\n",
    "\n",
    "In the following example, the code calls the Test method, passing an integer variable.\n",
    "_Which version overload of the Test method gets called?_\n",
    "_Whch version gets called if the 3rd implementation is commented out?_"
   ]
  },
  {
   "cell_type": "code",
   "execution_count": null,
   "metadata": {},
   "outputs": [],
   "source": [
    "class Sample3B\n",
    "{\n",
    "    static public void Test(string x) => Console.WriteLine($\"string {x}\");\n",
    "\n",
    "    static public void Test(float x) => Console.WriteLine($\"float {x}\");\n",
    "\n",
    "    static public void Test(int x) => Console.WriteLine($\"int {x}\");\n",
    "    \n",
    "    static public void Test(Parent x) => Console.WriteLine($\"person {x}\");\n",
    "}\n",
    "\n",
    "int intX = 0;\n",
    "Sample3B.Test(intX);\n"
   ]
  },
  {
   "cell_type": "markdown",
   "metadata": {},
   "source": [
    "Consider the following block of code. Dessert is the base class of all of the other classes. Pie and Cake inherit directly from Dessert. AppliePie is a child class of Pie. ChocolateCake is a child class of Cake.\n",
    "\n",
    "Note the three overloads of the Order method, all taking different combinations of arguments."
   ]
  },
  {
   "cell_type": "code",
   "execution_count": null,
   "metadata": {},
   "outputs": [],
   "source": [
    "class Dessert { }\n",
    "\n",
    "class Pie : Dessert { }\n",
    "\n",
    "class ApplePie : Pie { }\n",
    "\n",
    "class Cake : Dessert { }\n",
    "\n",
    "class ChocolateCake : Cake { }\n",
    "\n",
    "void Order(Dessert d, Cake c) =>\n",
    "    Console.WriteLine(\"Dessert, Cake\");\n",
    "\n",
    "void Order(Pie p, Dessert d) =>\n",
    "    Console.WriteLine(\"Pie, Dessert\");\n",
    "\n",
    "void Order(ApplePie a, Cake c) =>\n",
    "    Console.WriteLine(\"ApplePie, Cake\");\n",
    "\n",
    "Dessert dessert = new Dessert();\n",
    "Pie pie = new Pie();\n",
    "ApplePie applePie = new ApplePie();\n",
    "Cake cake = new Cake();\n",
    "ChocolateCake chocolateCake = new ChocolateCake();"
   ]
  },
  {
   "cell_type": "markdown",
   "metadata": {},
   "source": [
    "Obviously, when we invoke Order passing in instances of dessert and cake, the overload of Order that takes Dessert and Cake will get invoked."
   ]
  },
  {
   "cell_type": "code",
   "execution_count": null,
   "metadata": {},
   "outputs": [],
   "source": [
    "Order(dessert, cake);"
   ]
  },
  {
   "cell_type": "markdown",
   "metadata": {},
   "source": [
    "But what happens when we invoke Order with instaces of appliePie and dessert? There are no overloads of Order that take that exact combination. \n",
    "_Will there be a compilation error?_\n",
    "_If not, which method overload gets invoked?_"
   ]
  },
  {
   "cell_type": "code",
   "execution_count": null,
   "metadata": {},
   "outputs": [],
   "source": [
    "Order(applePie, dessert);"
   ]
  },
  {
   "cell_type": "markdown",
   "metadata": {},
   "source": [
    "The principle of substitution tells us that an instance of a child class can be substituted in places where an instance of their base class is expected. So in the case above, appliePie can be substitued for an instance of Pie. \n",
    "\n",
    "We can also say that C# has an implicit conversion (sometimes called a coersion) from a child type to a parent type. So the appliePie variable can be implicitly converted to an instance of Pie. \n",
    "\n",
    "This is why the Pie, Dessert overload got called.\n",
    "\n",
    "In the code below, Order is invoked with two instances of dessert. If applePie can be coerced into a Dessert, can dessert be coerced into an AppliePie?\n",
    "_What will happen when we try to exectue the following line of code?_"
   ]
  },
  {
   "cell_type": "code",
   "execution_count": null,
   "metadata": {},
   "outputs": [],
   "source": [
    "Order(dessert, dessert);"
   ]
  },
  {
   "cell_type": "markdown",
   "metadata": {},
   "source": [
    "If we try to invoke Order with applePie and chocolateCake, we know that it will run because the child types can be coerced into instances of their parent types. \n",
    "_Which overload will get called?_"
   ]
  },
  {
   "cell_type": "code",
   "execution_count": null,
   "metadata": {},
   "outputs": [],
   "source": [
    "Order(applePie, chocolateCake);"
   ]
  },
  {
   "cell_type": "markdown",
   "metadata": {},
   "source": [
    "What happens if we pass pie and cake?"
   ]
  },
  {
   "cell_type": "code",
   "execution_count": null,
   "metadata": {},
   "outputs": [],
   "source": [
    "Order(pie, cake);"
   ]
  },
  {
   "cell_type": "markdown",
   "metadata": {},
   "source": [
    "Note:\n",
    "This content has been adapted from the examples in An Introduction to Object-Oriented Programming, 3d Edition, by Timothy Budd. "
   ]
  }
 ],
 "metadata": {
  "kernelspec": {
   "display_name": ".NET (C#)",
   "language": "C#",
   "name": ".net-csharp"
  },
  "language_info": {
   "file_extension": ".cs",
   "mimetype": "text/x-csharp",
   "name": "C#",
   "pygments_lexer": "csharp",
   "version": "8.0"
  }
 },
 "nbformat": 4,
 "nbformat_minor": 4
}
